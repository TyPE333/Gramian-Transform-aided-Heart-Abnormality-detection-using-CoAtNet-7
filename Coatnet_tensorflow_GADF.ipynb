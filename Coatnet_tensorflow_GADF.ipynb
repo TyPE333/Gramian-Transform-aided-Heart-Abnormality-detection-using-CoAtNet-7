{
  "cells": [
    {
      "cell_type": "code",
      "execution_count": 1,
      "metadata": {
        "id": "9SRygrLVmf6T"
      },
      "outputs": [],
      "source": [
        "import tensorflow as tf\n",
        "\n",
        "import ssl\n",
        "# ssl._create_default_https_context = ssl._create_unverified_context\n",
        "\n",
        "# def pipe(data, batch_size = 128, shuffle = False):\n",
        "#     dataset = tf.data.Dataset.from_tensor_slices(data)\n",
        "#     if shuffle:\n",
        "#         dataset = dataset.shuffle(buffer_size = batch_size * 10)\n",
        "#     dataset = dataset.batch(batch_size)\n",
        "#     #dataset = dataset.prefetch((batch_size * 2) + 1)\n",
        "#     dataset = dataset.prefetch(tf.data.experimental.AUTOTUNE)\n",
        "#     return dataset\n",
        "\n",
        "# (tr_x, tr_y), (te_x, te_y) = tf.keras.datasets.cifar10.load_data()\n",
        "\n"
      ]
    },
    {
      "cell_type": "code",
      "execution_count": 1,
      "metadata": {
        "id": "oD-_3FofpYI5"
      },
      "outputs": [],
      "source": [
        ""
      ]
    },
    {
      "cell_type": "code",
      "execution_count": 2,
      "metadata": {
        "id": "Cgyi1Dm9oFED"
      },
      "outputs": [],
      "source": [
        "# tr_x = tr_x * 1/255\n",
        "# te_x = te_x * 1/255\n",
        "\n",
        "# batch_size = 128\n",
        "\n",
        "# tr_data = pipe((tr_x, tr_y), batch_size = batch_size, shuffle = True)\n",
        "# te_data = pipe((te_x, te_y), batch_size = batch_size, shuffle = False)"
      ]
    },
    {
      "cell_type": "code",
      "execution_count": 3,
      "metadata": {
        "id": "zgo1R0JGv_yM",
        "colab": {
          "base_uri": "https://localhost:8080/"
        },
        "outputId": "87329d57-6bff-456b-aa6b-397b23ca1fc7"
      },
      "outputs": [
        {
          "output_type": "stream",
          "name": "stdout",
          "text": [
            "Mounted at /content/drive\n"
          ]
        }
      ],
      "source": [
        "from google.colab import drive\n",
        "drive.mount('/content/drive')"
      ]
    },
    {
      "cell_type": "code",
      "execution_count": 4,
      "metadata": {
        "id": "x452SzNOyZP-",
        "colab": {
          "base_uri": "https://localhost:8080/"
        },
        "outputId": "68ebf20c-4fc7-497b-9bb4-3d01e96406f6"
      },
      "outputs": [
        {
          "output_type": "stream",
          "name": "stdout",
          "text": [
            "/content/drive/.shortcut-targets-by-id/1psvNNdzjOZtPf9i4b7gJzkYmUTZL7w5O/DATA VISUALIZATION/2016_dataset/gaf_images\n"
          ]
        }
      ],
      "source": [
        "%cd '/content/drive/MyDrive/DATA VISUALIZATION/2016_dataset/gaf_images'"
      ]
    },
    {
      "cell_type": "code",
      "execution_count": 5,
      "metadata": {
        "id": "Yw9Zjth_pbug"
      },
      "outputs": [],
      "source": [
        "import pandas as pd\n",
        "import numpy as np\n",
        "import os\n",
        "from keras.preprocessing.image import ImageDataGenerator, img_to_array, load_img, array_to_img\n",
        "import matplotlib.image as mpimg\n",
        "from  matplotlib import pyplot as plt\n",
        "%matplotlib inline"
      ]
    },
    {
      "cell_type": "code",
      "execution_count": 6,
      "metadata": {
        "id": "6-NbIgBbpoZz"
      },
      "outputs": [],
      "source": [
        "IMG_WIDTH=64\n",
        "IMG_HEIGHT=64\n",
        "batch_size=1\n",
        "\n",
        "train_dir = r'/content/drive/MyDrive/DATA VISUALIZATION/2016_dataset/gaf_images/Image_data/gadf_split/train'\n",
        "test_dir =  r'/content/drive/MyDrive/DATA VISUALIZATION/2016_dataset/gaf_images/Image_data/gadf_split/test'\n",
        "val_dir =  r'/content/drive/MyDrive/DATA VISUALIZATION/2016_dataset/gaf_images/Image_data/gadf_split/val'"
      ]
    },
    {
      "cell_type": "code",
      "execution_count": 7,
      "metadata": {
        "id": "HPCstbdJp1a7"
      },
      "outputs": [],
      "source": [
        "image_gen_train = ImageDataGenerator(rescale=1./255,\n",
        "                                     zoom_range=0.2, \n",
        "                                     rotation_range=65,\n",
        "                                     shear_range=0.09,\n",
        "                                     horizontal_flip=True,\n",
        "                                     vertical_flip=True)"
      ]
    },
    {
      "cell_type": "code",
      "execution_count": 8,
      "metadata": {
        "id": "priYqR08p3_a",
        "colab": {
          "base_uri": "https://localhost:8080/"
        },
        "outputId": "52b09468-1183-46f8-a06c-20ae5d618154"
      },
      "outputs": [
        {
          "output_type": "stream",
          "name": "stdout",
          "text": [
            "Found 2258 images belonging to 2 classes.\n"
          ]
        }
      ],
      "source": [
        "train_data_gen = image_gen_train.flow_from_directory(batch_size=batch_size,\n",
        "                                                     directory=train_dir,\n",
        "                                                     shuffle=True,\n",
        "                                                     target_size=(IMG_HEIGHT, IMG_WIDTH),\n",
        "                                                     class_mode='sparse')"
      ]
    },
    {
      "cell_type": "code",
      "execution_count": 9,
      "metadata": {
        "id": "2M1UM3cOp7x1",
        "colab": {
          "base_uri": "https://localhost:8080/"
        },
        "outputId": "9f22a261-ca42-4b1c-a925-fb5ca1ff76c2"
      },
      "outputs": [
        {
          "output_type": "stream",
          "name": "stdout",
          "text": [
            "Found 484 images belonging to 2 classes.\n"
          ]
        }
      ],
      "source": [
        "image_gen_val = ImageDataGenerator(rescale=1./255)\n",
        "val_data_gen = image_gen_val.flow_from_directory(batch_size=batch_size,\n",
        "                                                 directory=val_dir,\n",
        "                                                 target_size=(IMG_HEIGHT, IMG_WIDTH),\n",
        "                                                 class_mode='sparse')"
      ]
    },
    {
      "cell_type": "code",
      "execution_count": 10,
      "metadata": {
        "id": "VxvZDwqfp-L9",
        "colab": {
          "base_uri": "https://localhost:8080/"
        },
        "outputId": "832b1a94-46f6-40fc-bc53-ecfdc907f8f4"
      },
      "outputs": [
        {
          "output_type": "execute_result",
          "data": {
            "text/plain": [
              "dict_keys(['Abnormal', 'Normal'])"
            ]
          },
          "metadata": {},
          "execution_count": 10
        }
      ],
      "source": [
        "train_data_gen.class_indices.keys()"
      ]
    },
    {
      "cell_type": "code",
      "execution_count": 11,
      "metadata": {
        "id": "N6j6Gstlx90i",
        "colab": {
          "base_uri": "https://localhost:8080/"
        },
        "outputId": "18ff39fb-1a95-43cf-97ed-76f44e6d5f66"
      },
      "outputs": [
        {
          "output_type": "stream",
          "name": "stdout",
          "text": [
            "Collecting einops\n",
            "  Downloading einops-0.4.1-py3-none-any.whl (28 kB)\n",
            "Installing collected packages: einops\n",
            "Successfully installed einops-0.4.1\n"
          ]
        }
      ],
      "source": [
        "!pip install einops"
      ]
    },
    {
      "cell_type": "code",
      "execution_count": 12,
      "metadata": {
        "id": "Zchu5hAXzSzV"
      },
      "outputs": [],
      "source": [
        "def pipe(data, batch_size = 128, shuffle = False):\n",
        "    dataset = tf.data.Dataset.from_tensor_slices(data)\n",
        "    if shuffle:\n",
        "        dataset = dataset.shuffle(buffer_size = batch_size * 10)\n",
        "    dataset = dataset.batch(batch_size)\n",
        "    #dataset = dataset.prefetch((batch_size * 2) + 1)\n",
        "    dataset = dataset.prefetch(tf.data.experimental.AUTOTUNE)\n",
        "    return dataset"
      ]
    },
    {
      "cell_type": "code",
      "execution_count": 13,
      "metadata": {
        "id": "soGIv5aH2dE4"
      },
      "outputs": [],
      "source": [
        "# tr_data = pipe((train_data_gen, train_data_gen.labels), batch_size = batch_size, shuffle = True)\n",
        "# val_data = pipe((val_data_gen, val_data_gen.labels), batch_size = batch_size, shuffle = False)"
      ]
    },
    {
      "cell_type": "code",
      "execution_count": 14,
      "metadata": {
        "id": "HLqlAgxIncZk"
      },
      "outputs": [],
      "source": [
        "import coatnet\n",
        "\n",
        "model = coatnet.coatnet7(input_shape = (64, 64, 3), include_top = False,classes=2)\n",
        "\n",
        "flatten = tf.keras.layers.GlobalAveragePooling2D()(model.output)\n",
        "drop_out = tf.keras.layers.Dropout(0.5)(flatten)\n",
        "dense = tf.keras.layers.Dense(2048, activation = \"relu\")(drop_out)\n",
        "prediction = tf.keras.layers.Dense(10, activation = \"softmax\", name = \"prediction\")(dense)\n",
        "model = tf.keras.Model(model.input, prediction)"
      ]
    },
    {
      "cell_type": "code",
      "execution_count": 15,
      "metadata": {
        "id": "XiIjsemUni2j"
      },
      "outputs": [],
      "source": [
        "loss = tf.keras.losses.sparse_categorical_crossentropy\n",
        "opt = tf.keras.optimizers.Adam(1e-4)\n",
        "metric = [tf.keras.metrics.sparse_categorical_accuracy]\n",
        "model.compile(loss = loss, optimizer = opt, metrics = metric)"
      ]
    },
    {
      "cell_type": "code",
      "execution_count": 16,
      "metadata": {
        "id": "i-jCB1YEnk3p",
        "colab": {
          "base_uri": "https://localhost:8080/"
        },
        "outputId": "ceacc6b6-bcda-4949-a5c5-bd78210eb101"
      },
      "outputs": [
        {
          "output_type": "stream",
          "name": "stdout",
          "text": [
            "Epoch 1/10\n",
            "2258/2258 [==============================] - 1028s 419ms/step - loss: 0.6590 - sparse_categorical_accuracy: 0.7768 - val_loss: 0.5076 - val_sparse_categorical_accuracy: 0.7975\n",
            "Epoch 2/10\n",
            "2258/2258 [==============================] - 772s 342ms/step - loss: 0.5392 - sparse_categorical_accuracy: 0.7941 - val_loss: 0.5083 - val_sparse_categorical_accuracy: 0.7975\n",
            "Epoch 3/10\n",
            "2258/2258 [==============================] - 770s 341ms/step - loss: 0.5284 - sparse_categorical_accuracy: 0.7972 - val_loss: 0.5039 - val_sparse_categorical_accuracy: 0.7975\n",
            "Epoch 4/10\n",
            "2258/2258 [==============================] - 771s 342ms/step - loss: 0.5305 - sparse_categorical_accuracy: 0.7963 - val_loss: 0.5155 - val_sparse_categorical_accuracy: 0.7975\n",
            "Epoch 5/10\n",
            "2258/2258 [==============================] - 769s 340ms/step - loss: 0.5183 - sparse_categorical_accuracy: 0.7972 - val_loss: 0.5039 - val_sparse_categorical_accuracy: 0.7975\n",
            "Epoch 6/10\n",
            "2258/2258 [==============================] - 767s 340ms/step - loss: 0.5136 - sparse_categorical_accuracy: 0.7972 - val_loss: 0.5055 - val_sparse_categorical_accuracy: 0.7975\n",
            "Epoch 7/10\n",
            "2258/2258 [==============================] - 767s 340ms/step - loss: 0.5163 - sparse_categorical_accuracy: 0.7972 - val_loss: 0.5039 - val_sparse_categorical_accuracy: 0.7975\n",
            "Epoch 8/10\n",
            "2258/2258 [==============================] - 767s 340ms/step - loss: 0.5171 - sparse_categorical_accuracy: 0.7958 - val_loss: 0.5091 - val_sparse_categorical_accuracy: 0.7975\n",
            "Epoch 9/10\n",
            "2258/2258 [==============================] - 762s 337ms/step - loss: 0.5300 - sparse_categorical_accuracy: 0.7967 - val_loss: 0.5038 - val_sparse_categorical_accuracy: 0.7975\n",
            "Epoch 10/10\n",
            "2258/2258 [==============================] - 764s 338ms/step - loss: 0.5142 - sparse_categorical_accuracy: 0.7972 - val_loss: 0.5069 - val_sparse_categorical_accuracy: 0.7975\n"
          ]
        },
        {
          "output_type": "execute_result",
          "data": {
            "text/plain": [
              "<keras.callbacks.History at 0x7f7334b68fd0>"
            ]
          },
          "metadata": {},
          "execution_count": 16
        }
      ],
      "source": [
        "model.fit(train_data_gen, validation_data = val_data_gen, epochs = 10)"
      ]
    },
    {
      "cell_type": "code",
      "execution_count": 17,
      "metadata": {
        "id": "8L_dZntSnrU6"
      },
      "outputs": [],
      "source": [
        "model.save_weights(\"model_gadf.h5\")"
      ]
    },
    {
      "cell_type": "code",
      "execution_count": 18,
      "metadata": {
        "id": "sIaqC19bnr3s"
      },
      "outputs": [],
      "source": [
        "model.load_weights(\"model_gadf.h5\")"
      ]
    },
    {
      "cell_type": "code",
      "execution_count": 19,
      "metadata": {
        "id": "mqujaJ_w8tCM",
        "colab": {
          "base_uri": "https://localhost:8080/"
        },
        "outputId": "51eb1b12-aee2-4fc9-8382-53e36cde7835"
      },
      "outputs": [
        {
          "output_type": "stream",
          "name": "stdout",
          "text": [
            "Found 484 images belonging to 2 classes.\n"
          ]
        }
      ],
      "source": [
        "image_gen_test = ImageDataGenerator(rescale=1./255)\n",
        "test_data_gen = image_gen_test.flow_from_directory(batch_size=batch_size,\n",
        "                                                 directory=val_dir,\n",
        "                                                 target_size=(IMG_HEIGHT, IMG_WIDTH),\n",
        "                                                 class_mode='sparse')"
      ]
    },
    {
      "cell_type": "code",
      "execution_count": 20,
      "metadata": {
        "id": "ai682kOPnwnR",
        "colab": {
          "base_uri": "https://localhost:8080/"
        },
        "outputId": "7769f621-c40f-4651-d80c-e408beac50c7"
      },
      "outputs": [
        {
          "output_type": "stream",
          "name": "stdout",
          "text": [
            "484/484 [==============================] - 84s 128ms/step - loss: 0.5069 - sparse_categorical_accuracy: 0.7975\n"
          ]
        },
        {
          "output_type": "execute_result",
          "data": {
            "text/plain": [
              "[0.5069025754928589, 0.797520637512207]"
            ]
          },
          "metadata": {},
          "execution_count": 20
        }
      ],
      "source": [
        "loss = tf.keras.losses.sparse_categorical_crossentropy\n",
        "metric = [tf.keras.metrics.sparse_categorical_accuracy]\n",
        "model.compile(loss = loss, metrics = metric)\n",
        "model.evaluate(test_data_gen)"
      ]
    }
  ],
  "metadata": {
    "accelerator": "GPU",
    "colab": {
      "collapsed_sections": [],
      "machine_shape": "hm",
      "name": "Coatnet tensorflow GADF.ipynb",
      "provenance": []
    },
    "kernelspec": {
      "display_name": "Python 3",
      "name": "python3"
    },
    "language_info": {
      "name": "python"
    }
  },
  "nbformat": 4,
  "nbformat_minor": 0
}