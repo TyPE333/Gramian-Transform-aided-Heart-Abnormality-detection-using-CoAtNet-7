{
  "cells": [
    {
      "cell_type": "code",
      "execution_count": 1,
      "metadata": {
        "id": "9SRygrLVmf6T"
      },
      "outputs": [],
      "source": [
        "import tensorflow as tf\n",
        "\n",
        "import ssl\n",
        "# ssl._create_default_https_context = ssl._create_unverified_context\n",
        "\n",
        "# def pipe(data, batch_size = 128, shuffle = False):\n",
        "#     dataset = tf.data.Dataset.from_tensor_slices(data)\n",
        "#     if shuffle:\n",
        "#         dataset = dataset.shuffle(buffer_size = batch_size * 10)\n",
        "#     dataset = dataset.batch(batch_size)\n",
        "#     #dataset = dataset.prefetch((batch_size * 2) + 1)\n",
        "#     dataset = dataset.prefetch(tf.data.experimental.AUTOTUNE)\n",
        "#     return dataset\n",
        "\n",
        "# (tr_x, tr_y), (te_x, te_y) = tf.keras.datasets.cifar10.load_data()\n",
        "\n"
      ]
    },
    {
      "cell_type": "code",
      "execution_count": 1,
      "metadata": {
        "id": "oD-_3FofpYI5"
      },
      "outputs": [],
      "source": [
        ""
      ]
    },
    {
      "cell_type": "code",
      "execution_count": 2,
      "metadata": {
        "id": "Cgyi1Dm9oFED"
      },
      "outputs": [],
      "source": [
        "# tr_x = tr_x * 1/255\n",
        "# te_x = te_x * 1/255\n",
        "\n",
        "# batch_size = 128\n",
        "\n",
        "# tr_data = pipe((tr_x, tr_y), batch_size = batch_size, shuffle = True)\n",
        "# te_data = pipe((te_x, te_y), batch_size = batch_size, shuffle = False)"
      ]
    },
    {
      "cell_type": "code",
      "execution_count": 3,
      "metadata": {
        "colab": {
          "base_uri": "https://localhost:8080/"
        },
        "id": "zgo1R0JGv_yM",
        "outputId": "6387958f-1077-4d3a-c204-8f9fcc7f4e5d"
      },
      "outputs": [
        {
          "output_type": "stream",
          "name": "stdout",
          "text": [
            "Drive already mounted at /content/drive; to attempt to forcibly remount, call drive.mount(\"/content/drive\", force_remount=True).\n"
          ]
        }
      ],
      "source": [
        "from google.colab import drive\n",
        "drive.mount('/content/drive')"
      ]
    },
    {
      "cell_type": "code",
      "execution_count": 4,
      "metadata": {
        "colab": {
          "base_uri": "https://localhost:8080/"
        },
        "id": "x452SzNOyZP-",
        "outputId": "671c5a42-f7f1-476b-a921-89c19f9a6f4e"
      },
      "outputs": [
        {
          "output_type": "stream",
          "name": "stdout",
          "text": [
            "/content/drive/.shortcut-targets-by-id/1psvNNdzjOZtPf9i4b7gJzkYmUTZL7w5O/DATA VISUALIZATION/2016_dataset/gaf_images\n"
          ]
        }
      ],
      "source": [
        "%cd '/content/drive/MyDrive/DATA VISUALIZATION/2016_dataset/gaf_images'"
      ]
    },
    {
      "cell_type": "code",
      "execution_count": 5,
      "metadata": {
        "id": "Yw9Zjth_pbug"
      },
      "outputs": [],
      "source": [
        "import pandas as pd\n",
        "import numpy as np\n",
        "import os\n",
        "from keras.preprocessing.image import ImageDataGenerator, img_to_array, load_img, array_to_img\n",
        "import matplotlib.image as mpimg\n",
        "from  matplotlib import pyplot as plt\n",
        "%matplotlib inline"
      ]
    },
    {
      "cell_type": "code",
      "execution_count": 6,
      "metadata": {
        "id": "6-NbIgBbpoZz"
      },
      "outputs": [],
      "source": [
        "IMG_WIDTH=64\n",
        "IMG_HEIGHT=64\n",
        "batch_size=1\n",
        "\n",
        "train_dir = r'/content/drive/MyDrive/DATA VISUALIZATION/2016_dataset/gaf_images/Image_data/gasf_split/train'\n",
        "test_dir =  r'/content/drive/MyDrive/DATA VISUALIZATION/2016_dataset/gaf_images/Image_data/gasf_split/test'\n",
        "val_dir =  r'/content/drive/MyDrive/DATA VISUALIZATION/2016_dataset/gaf_images/Image_data/gasf_split/val'"
      ]
    },
    {
      "cell_type": "code",
      "execution_count": 7,
      "metadata": {
        "id": "HPCstbdJp1a7"
      },
      "outputs": [],
      "source": [
        "image_gen_train = ImageDataGenerator(rescale=1./255,\n",
        "                                     zoom_range=0.2, \n",
        "                                     rotation_range=65,\n",
        "                                     shear_range=0.09,\n",
        "                                     horizontal_flip=True,\n",
        "                                     vertical_flip=True)"
      ]
    },
    {
      "cell_type": "code",
      "execution_count": 8,
      "metadata": {
        "colab": {
          "base_uri": "https://localhost:8080/"
        },
        "id": "priYqR08p3_a",
        "outputId": "6b20635d-9214-4003-d670-5c856cef4e14"
      },
      "outputs": [
        {
          "output_type": "stream",
          "name": "stdout",
          "text": [
            "Found 2258 images belonging to 2 classes.\n"
          ]
        }
      ],
      "source": [
        "train_data_gen = image_gen_train.flow_from_directory(batch_size=batch_size,\n",
        "                                                     directory=train_dir,\n",
        "                                                     shuffle=True,\n",
        "                                                     target_size=(IMG_HEIGHT, IMG_WIDTH),\n",
        "                                                     class_mode='sparse')"
      ]
    },
    {
      "cell_type": "code",
      "execution_count": 9,
      "metadata": {
        "colab": {
          "base_uri": "https://localhost:8080/"
        },
        "id": "2M1UM3cOp7x1",
        "outputId": "b8957f5e-bdc1-4a2a-9340-391a8a839b5d"
      },
      "outputs": [
        {
          "output_type": "stream",
          "name": "stdout",
          "text": [
            "Found 484 images belonging to 2 classes.\n"
          ]
        }
      ],
      "source": [
        "image_gen_val = ImageDataGenerator(rescale=1./255)\n",
        "val_data_gen = image_gen_val.flow_from_directory(batch_size=batch_size,\n",
        "                                                 directory=val_dir,\n",
        "                                                 target_size=(IMG_HEIGHT, IMG_WIDTH),\n",
        "                                                 class_mode='sparse')"
      ]
    },
    {
      "cell_type": "code",
      "execution_count": 10,
      "metadata": {
        "colab": {
          "base_uri": "https://localhost:8080/"
        },
        "id": "VxvZDwqfp-L9",
        "outputId": "2a420c76-b5d8-48c3-f75f-4a5c24c24b08"
      },
      "outputs": [
        {
          "output_type": "execute_result",
          "data": {
            "text/plain": [
              "dict_keys(['abnormal', 'normal'])"
            ]
          },
          "metadata": {},
          "execution_count": 10
        }
      ],
      "source": [
        "train_data_gen.class_indices.keys()"
      ]
    },
    {
      "cell_type": "code",
      "execution_count": 11,
      "metadata": {
        "colab": {
          "base_uri": "https://localhost:8080/"
        },
        "id": "N6j6Gstlx90i",
        "outputId": "3b4e1e9c-e007-4ac4-fe5b-9619b0b8e1a3"
      },
      "outputs": [
        {
          "output_type": "stream",
          "name": "stdout",
          "text": [
            "Requirement already satisfied: einops in /usr/local/lib/python3.7/dist-packages (0.4.1)\n"
          ]
        }
      ],
      "source": [
        "!pip install einops"
      ]
    },
    {
      "cell_type": "code",
      "execution_count": 12,
      "metadata": {
        "id": "Zchu5hAXzSzV"
      },
      "outputs": [],
      "source": [
        "def pipe(data, batch_size = 128, shuffle = False):\n",
        "    dataset = tf.data.Dataset.from_tensor_slices(data)\n",
        "    if shuffle:\n",
        "        dataset = dataset.shuffle(buffer_size = batch_size * 10)\n",
        "    dataset = dataset.batch(batch_size)\n",
        "    #dataset = dataset.prefetch((batch_size * 2) + 1)\n",
        "    dataset = dataset.prefetch(tf.data.experimental.AUTOTUNE)\n",
        "    return dataset"
      ]
    },
    {
      "cell_type": "code",
      "execution_count": 13,
      "metadata": {
        "id": "soGIv5aH2dE4"
      },
      "outputs": [],
      "source": [
        "# tr_data = pipe((train_data_gen, train_data_gen.labels), batch_size = batch_size, shuffle = True)\n",
        "# val_data = pipe((val_data_gen, val_data_gen.labels), batch_size = batch_size, shuffle = False)"
      ]
    },
    {
      "cell_type": "code",
      "execution_count": 14,
      "metadata": {
        "id": "HLqlAgxIncZk"
      },
      "outputs": [],
      "source": [
        "import coatnet\n",
        "\n",
        "model = coatnet.coatnet7(input_shape = (64, 64, 3), include_top = False,classes=2)\n",
        "\n",
        "flatten = tf.keras.layers.GlobalAveragePooling2D()(model.output)\n",
        "drop_out = tf.keras.layers.Dropout(0.5)(flatten)\n",
        "dense = tf.keras.layers.Dense(2048, activation = \"relu\")(drop_out)\n",
        "prediction = tf.keras.layers.Dense(10, activation = \"softmax\", name = \"prediction\")(dense)\n",
        "model = tf.keras.Model(model.input, prediction)"
      ]
    },
    {
      "cell_type": "code",
      "execution_count": 15,
      "metadata": {
        "id": "XiIjsemUni2j"
      },
      "outputs": [],
      "source": [
        "loss = tf.keras.losses.sparse_categorical_crossentropy\n",
        "opt = tf.keras.optimizers.Adam(1e-4)\n",
        "metric = [tf.keras.metrics.sparse_categorical_accuracy]\n",
        "model.compile(loss = loss, optimizer = opt, metrics = metric)"
      ]
    },
    {
      "cell_type": "code",
      "execution_count": 16,
      "metadata": {
        "colab": {
          "base_uri": "https://localhost:8080/"
        },
        "id": "i-jCB1YEnk3p",
        "outputId": "06e72ad3-51be-43b9-c782-cd6779c15a8f"
      },
      "outputs": [
        {
          "output_type": "stream",
          "name": "stdout",
          "text": [
            "Epoch 1/10\n",
            "2258/2258 [==============================] - 886s 347ms/step - loss: 0.6525 - sparse_categorical_accuracy: 0.7710 - val_loss: 0.7523 - val_sparse_categorical_accuracy: 0.7975\n",
            "Epoch 2/10\n",
            "2258/2258 [==============================] - 765s 339ms/step - loss: 0.5445 - sparse_categorical_accuracy: 0.7927 - val_loss: 0.5054 - val_sparse_categorical_accuracy: 0.7975\n",
            "Epoch 3/10\n",
            "2258/2258 [==============================] - 752s 333ms/step - loss: 0.5220 - sparse_categorical_accuracy: 0.7972 - val_loss: 0.5214 - val_sparse_categorical_accuracy: 0.7975\n",
            "Epoch 4/10\n",
            "2258/2258 [==============================] - 743s 329ms/step - loss: 0.5307 - sparse_categorical_accuracy: 0.7954 - val_loss: 0.5045 - val_sparse_categorical_accuracy: 0.7975\n",
            "Epoch 5/10\n",
            "2258/2258 [==============================] - 744s 329ms/step - loss: 0.5147 - sparse_categorical_accuracy: 0.7972 - val_loss: 0.5561 - val_sparse_categorical_accuracy: 0.7975\n",
            "Epoch 6/10\n",
            "2258/2258 [==============================] - 740s 328ms/step - loss: 0.5166 - sparse_categorical_accuracy: 0.7972 - val_loss: 0.5096 - val_sparse_categorical_accuracy: 0.7975\n",
            "Epoch 7/10\n",
            "2258/2258 [==============================] - 742s 329ms/step - loss: 0.5188 - sparse_categorical_accuracy: 0.7967 - val_loss: 0.5064 - val_sparse_categorical_accuracy: 0.7975\n",
            "Epoch 8/10\n",
            "2258/2258 [==============================] - 748s 331ms/step - loss: 0.5177 - sparse_categorical_accuracy: 0.7972 - val_loss: 0.5078 - val_sparse_categorical_accuracy: 0.7975\n",
            "Epoch 9/10\n",
            "2258/2258 [==============================] - 746s 330ms/step - loss: 0.5125 - sparse_categorical_accuracy: 0.7972 - val_loss: 0.5145 - val_sparse_categorical_accuracy: 0.7975\n",
            "Epoch 10/10\n",
            "2258/2258 [==============================] - 743s 329ms/step - loss: 0.5138 - sparse_categorical_accuracy: 0.7972 - val_loss: 0.5104 - val_sparse_categorical_accuracy: 0.7975\n"
          ]
        },
        {
          "output_type": "execute_result",
          "data": {
            "text/plain": [
              "<keras.callbacks.History at 0x7f547ac34090>"
            ]
          },
          "metadata": {},
          "execution_count": 16
        }
      ],
      "source": [
        "model.fit(train_data_gen, validation_data = val_data_gen, epochs = 10)"
      ]
    },
    {
      "cell_type": "code",
      "execution_count": 17,
      "metadata": {
        "id": "8L_dZntSnrU6"
      },
      "outputs": [],
      "source": [
        "model.save_weights(\"model.h5\")"
      ]
    },
    {
      "cell_type": "code",
      "execution_count": 18,
      "metadata": {
        "id": "sIaqC19bnr3s"
      },
      "outputs": [],
      "source": [
        "model.load_weights(\"model.h5\")"
      ]
    },
    {
      "cell_type": "code",
      "execution_count": null,
      "metadata": {
        "id": "mqujaJ_w8tCM"
      },
      "outputs": [],
      "source": [
        "image_gen_test = ImageDataGenerator(rescale=1./255)\n",
        "test_data_gen = image_gen_test.flow_from_directory(batch_size=batch_size,\n",
        "                                                 directory=val_dir,\n",
        "                                                 target_size=(IMG_HEIGHT, IMG_WIDTH),\n",
        "                                                 class_mode='sparse')"
      ]
    },
    {
      "cell_type": "code",
      "execution_count": 20,
      "metadata": {
        "colab": {
          "base_uri": "https://localhost:8080/"
        },
        "id": "ai682kOPnwnR",
        "outputId": "7743926b-fd50-4737-9a86-1294f92535cb"
      },
      "outputs": [
        {
          "metadata": {
            "tags": null
          },
          "name": "stdout",
          "output_type": "stream",
          "text": [
            "484/484 [==============================] - 105s 148ms/step - loss: 0.5104 - sparse_categorical_accuracy: 0.7975\n"
          ]
        },
        {
          "data": {
            "text/plain": [
              "[0.5104355812072754, 0.797520637512207]"
            ]
          },
          "execution_count": null,
          "metadata": {},
          "output_type": "execute_result"
        }
      ],
      "source": [
        "loss = tf.keras.losses.sparse_categorical_crossentropy\n",
        "metric = [tf.keras.metrics.sparse_categorical_accuracy]\n",
        "model.compile(loss = loss, metrics = metric)\n",
        "model.evaluate(test_data_gen)"
      ]
    }
  ],
  "metadata": {
    "accelerator": "GPU",
    "colab": {
      "collapsed_sections": [],
      "machine_shape": "hm",
      "name": "Coatnet tensorflow GASF.ipynb",
      "provenance": []
    },
    "kernelspec": {
      "display_name": "Python 3",
      "name": "python3"
    },
    "language_info": {
      "name": "python"
    }
  },
  "nbformat": 4,
  "nbformat_minor": 0
}